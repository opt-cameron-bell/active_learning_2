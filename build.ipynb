{
 "metadata": {
  "language_info": {
   "codemirror_mode": {
    "name": "ipython",
    "version": 3
   },
   "file_extension": ".py",
   "mimetype": "text/x-python",
   "name": "python",
   "nbconvert_exporter": "python",
   "pygments_lexer": "ipython3",
   "version": "3.8.3"
  },
  "orig_nbformat": 2,
  "kernelspec": {
   "name": "python383jvsc74a57bd02975f3311834ffc72750417b79d93db6b8ab46d9ed4bda85fa63f96880a27236",
   "display_name": "Python 3.8.3 64-bit ('base': conda)"
  }
 },
 "nbformat": 4,
 "nbformat_minor": 2,
 "cells": [
  {
   "cell_type": "code",
   "execution_count": 3,
   "metadata": {},
   "outputs": [
    {
     "output_type": "display_data",
     "data": {
      "text/plain": "ClassLabeller(children=(HBox(children=(HBox(children=(FloatProgress(value=0.0, description='Progress:', max=1.…",
      "application/vnd.jupyter.widget-view+json": {
       "version_major": 2,
       "version_minor": 0,
       "model_id": "acb7d531f6494b43a9fcac6fee086208"
      }
     },
     "metadata": {}
    }
   ],
   "source": [
    "from sklearn.datasets import load_digits\n",
    "from sklearn.linear_model import LogisticRegression\n",
    "\n",
    "model = LogisticRegression(\n",
    "    solver=\"lbfgs\",\n",
    "    multi_class=\"multinomial\",\n",
    "    max_iter=5000\n",
    ")\n",
    "\n",
    "import numpy as np\n",
    "digits = load_digits().data\n",
    "\n",
    "def display_preprocessing(x):\n",
    "    return x.reshape(8, 8)\n",
    "\n",
    "def preprocess_mnist(x, y):\n",
    "    return x.reshape(-1, 64), y\n",
    "\n",
    "from superintendent.distributed import ClassLabeller\n",
    "\n",
    "widget = ClassLabeller.from_images(\n",
    "    connection_string=\"sqlite:///demo.db\",\n",
    "    canvas_size=(200, 200),\n",
    "    model=model,\n",
    "    options=range(10),\n",
    "    acquisition_function='entropy',\n",
    "    display_preprocess=display_preprocessing,\n",
    "    model_preprocess=preprocess_mnist\n",
    ")\n",
    "\n",
    "widget"
   ]
  }
 ]
}